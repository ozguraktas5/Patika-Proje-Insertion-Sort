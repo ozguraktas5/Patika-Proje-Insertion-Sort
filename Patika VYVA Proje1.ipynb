{
 "cells": [
  {
   "cell_type": "markdown",
   "id": "f8e2514d",
   "metadata": {},
   "source": [
    "# Proje 1"
   ]
  },
  {
   "cell_type": "code",
   "execution_count": null,
   "id": "a9cfa9a4",
   "metadata": {},
   "outputs": [],
   "source": [
    "[22,27,16,2,18,6] ---> Insertion Sort"
   ]
  },
  {
   "cell_type": "markdown",
   "id": "f1fc2e80",
   "metadata": {},
   "source": [
    "1- Yukarıda verilen dizinin sort türüne göre aşamalarını yazınız."
   ]
  },
  {
   "cell_type": "code",
   "execution_count": null,
   "id": "d17e1402",
   "metadata": {},
   "outputs": [],
   "source": [
    "[22,27,16,2,18,6] n\n",
    "\n",
    "[2,27,16,22,18,6] n-1\n",
    "\n",
    "[2,6,16,22,18,27] n-2\n",
    "\n",
    "[2,6,16,18,22,27] 1"
   ]
  },
  {
   "cell_type": "markdown",
   "id": "342f6ee0",
   "metadata": {},
   "source": [
    "2- Big-o gösterimini yazınız."
   ]
  },
  {
   "cell_type": "code",
   "execution_count": null,
   "id": "de9f5acb",
   "metadata": {},
   "outputs": [],
   "source": [
    "n+(n-1)+(n-2)+(n-3)+....+1\n",
    "Toplam = n*(n+1)/2 ---> (n^2+n/2)\n",
    "O(n^2)"
   ]
  },
  {
   "cell_type": "markdown",
   "id": "33aa8911",
   "metadata": {},
   "source": [
    "3- Average Case: Aradığımız sayının ortada olması\n",
    "   Worst Case: Aradığımız sayının sonda olması\n",
    "   Best Case: Aradığımız sayının dizinin en başında olması"
   ]
  },
  {
   "cell_type": "markdown",
   "id": "70672433",
   "metadata": {},
   "source": [
    "4- Dizi sıralandıktan sonra 18 sayısı hangi case kapsamına girer."
   ]
  },
  {
   "cell_type": "code",
   "execution_count": null,
   "id": "6035af3a",
   "metadata": {},
   "outputs": [],
   "source": [
    "[22,27,16,2,18,6]\n",
    "\n",
    "[2,6,16,18,22,27] ---> 18 sayısı Average Case kapsamına girer."
   ]
  },
  {
   "cell_type": "markdown",
   "id": "9ce743ce",
   "metadata": {},
   "source": [
    "-------------------------------------------------------------------------------------------------------------------------------"
   ]
  },
  {
   "cell_type": "code",
   "execution_count": null,
   "id": "1ad16c45",
   "metadata": {},
   "outputs": [],
   "source": [
    "[7,3,5,8,2,9,4,15,6] ---> Insertion Sort"
   ]
  },
  {
   "cell_type": "markdown",
   "id": "19ecaac5",
   "metadata": {},
   "source": [
    "1- Yukarıda verilen dizinin sort türüne göre ilk 4 aşamasını yazınız."
   ]
  },
  {
   "cell_type": "code",
   "execution_count": null,
   "id": "77fa3af3",
   "metadata": {},
   "outputs": [],
   "source": [
    "[2,3,5,8,7,9,4,15,6] n-1\n",
    "\n",
    "[2,3,4,8,7,9,5,15,6] n-2\n",
    "\n",
    "[2,3,4,5,7,9,8,15,6] n-3\n",
    "\n",
    "[2,3,4,5,6,9,8,15,7] n-4"
   ]
  }
 ],
 "metadata": {
  "kernelspec": {
   "display_name": "Python 3 (ipykernel)",
   "language": "python",
   "name": "python3"
  },
  "language_info": {
   "codemirror_mode": {
    "name": "ipython",
    "version": 3
   },
   "file_extension": ".py",
   "mimetype": "text/x-python",
   "name": "python",
   "nbconvert_exporter": "python",
   "pygments_lexer": "ipython3",
   "version": "3.9.12"
  }
 },
 "nbformat": 4,
 "nbformat_minor": 5
}
